{
 "cells": [
  {
   "cell_type": "code",
   "execution_count": 31,
   "metadata": {},
   "outputs": [],
   "source": [
    "from torchvision.models.feature_extraction import create_feature_extractor\n",
    "\n",
    "from torchvision.utils import save_image\n",
    "\n",
    "import torch\n",
    "\n",
    "from tqdm import tqdm\n",
    "\n",
    "from sklearn.decomposition import IncrementalPCA\n",
    "from sklearn.linear_model import LinearRegression\n",
    "\n",
    "from utils.dataset_pretrained import Dataset\n",
    "\n",
    "import numpy as np\n",
    "\n",
    "import matplotlib.pyplot as plt\n",
    "\n",
    "import numpy as np"
   ]
  },
  {
   "cell_type": "code",
   "execution_count": 2,
   "metadata": {},
   "outputs": [],
   "source": [
    "batch_size = 600"
   ]
  },
  {
   "cell_type": "code",
   "execution_count": 3,
   "metadata": {},
   "outputs": [
    {
     "name": "stderr",
     "output_type": "stream",
     "text": [
      "Using cache found in /home/ubuntu/.cache/torch/hub/pytorch_vision_v0.10.0\n"
     ]
    },
    {
     "data": {
      "text/plain": [
       "AlexNet(\n",
       "  (features): Module(\n",
       "    (0): Conv2d(3, 64, kernel_size=(11, 11), stride=(4, 4), padding=(2, 2))\n",
       "    (1): ReLU(inplace=True)\n",
       "    (2): MaxPool2d(kernel_size=3, stride=2, padding=0, dilation=1, ceil_mode=False)\n",
       "  )\n",
       ")"
      ]
     },
     "execution_count": 3,
     "metadata": {},
     "output_type": "execute_result"
    }
   ],
   "source": [
    "device = torch.device('cuda' if torch.cuda.is_available() else 'cpu')\n",
    "\n",
    "alexnet = torch.hub.load('pytorch/vision:v0.10.0', 'alexnet')\n",
    "alexnet.to(device) # send the alexnet to the chosen device ('cpu' or 'cuda')\n",
    "alexnet.eval() # set the alexnet to evaluation mode, since you are not training it\n",
    "\n",
    "model_layer = \"features.2\" #@param [\"features.2\", \"features.5\", \"features.7\", \"features.9\", \"features.12\", \"classifier.2\", \"classifier.5\", \"classifier.6\"] {allow-input: true}\n",
    "feature_extractor = create_feature_extractor(alexnet, return_nodes=[model_layer])\n",
    "feature_extractor.to(device)\n",
    "feature_extractor.eval()"
   ]
  },
  {
   "cell_type": "code",
   "execution_count": 4,
   "metadata": {},
   "outputs": [
    {
     "name": "stdout",
     "output_type": "stream",
     "text": [
      "Loading dataset sample names...\n",
      "Training images: 11382\n"
     ]
    }
   ],
   "source": [
    "# loading dataset + creating train test split for verifying performance\n",
    "dataset = Dataset(\"gaze-dataset\")\n",
    "\n",
    "train_set, val_set = torch.utils.data.random_split(dataset, [10000, 1382])\n",
    "\n",
    "train_loader = torch.utils.data.DataLoader(train_set, batch_size=batch_size, shuffle=True)\n",
    "val_loader = torch.utils.data.DataLoader(val_set, batch_size=batch_size, shuffle=True)"
   ]
  },
  {
   "cell_type": "code",
   "execution_count": 5,
   "metadata": {},
   "outputs": [],
   "source": [
    "def fit_pca(feature_extractor, dataloader):\n",
    "    # Define PCA parameters\n",
    "    pca = IncrementalPCA(n_components=600, batch_size=batch_size)\n",
    "\n",
    "    # Fit PCA to batch\n",
    "    for _, d in tqdm(enumerate(dataloader), total=len(dataloader)):\n",
    "        if _ == len(dataloader)-1:\n",
    "            break\n",
    "        # Extract features\n",
    "        ft = feature_extractor(d[0].to(device))\n",
    "        # Flatten the features\n",
    "        ft = torch.hstack([torch.flatten(l, start_dim=1) for l in ft.values()])\n",
    "        # Fit PCA to batch\n",
    "        pca.partial_fit(ft.detach().cpu().numpy())\n",
    "\n",
    "    return pca"
   ]
  },
  {
   "cell_type": "code",
   "execution_count": 6,
   "metadata": {},
   "outputs": [
    {
     "name": "stderr",
     "output_type": "stream",
     "text": [
      " 94%|█████████▍| 16/17 [03:38<00:13, 13.67s/it]\n"
     ]
    }
   ],
   "source": [
    "pca = fit_pca(feature_extractor, train_loader)"
   ]
  },
  {
   "cell_type": "code",
   "execution_count": 7,
   "metadata": {},
   "outputs": [
    {
     "data": {
      "text/plain": [
       "array([5.29500875e-01, 7.85962820e-02, 5.26085222e-02, 4.30798708e-02,\n",
       "       2.55002535e-02, 1.83820115e-02, 1.70045974e-02, 1.29844985e-02,\n",
       "       1.15788786e-02, 1.05644931e-02, 9.84884862e-03, 7.92283413e-03,\n",
       "       7.39982155e-03, 7.13404292e-03, 6.64742651e-03, 6.22354968e-03,\n",
       "       5.78147186e-03, 5.52960555e-03, 5.10015857e-03, 4.71615325e-03,\n",
       "       4.08859710e-03, 3.77485776e-03, 3.64835544e-03, 3.33381475e-03,\n",
       "       3.04511434e-03, 2.78721604e-03, 2.60072780e-03, 2.29346788e-03,\n",
       "       2.26199444e-03, 2.15468257e-03, 2.11619980e-03, 1.97681233e-03,\n",
       "       1.91878636e-03, 1.83234041e-03, 1.80604211e-03, 1.72362112e-03,\n",
       "       1.65147081e-03, 1.58308721e-03, 1.51663716e-03, 1.45139003e-03,\n",
       "       1.41245223e-03, 1.38091771e-03, 1.25738772e-03, 1.22008572e-03,\n",
       "       1.19096121e-03, 1.15652610e-03, 1.09796599e-03, 1.09698713e-03,\n",
       "       1.01803006e-03, 1.00010915e-03, 9.74221547e-04, 9.64864362e-04,\n",
       "       9.42560508e-04, 8.78782618e-04, 8.48874574e-04, 8.38420114e-04,\n",
       "       8.20449112e-04, 7.97439063e-04, 7.57806390e-04, 7.42948926e-04,\n",
       "       7.26635224e-04, 7.18724071e-04, 7.01886907e-04, 6.68847273e-04,\n",
       "       6.64804508e-04, 6.61873138e-04, 6.31471886e-04, 6.11298032e-04,\n",
       "       5.99710174e-04, 5.76996096e-04, 5.75593145e-04, 5.53923910e-04,\n",
       "       5.48803982e-04, 5.25617223e-04, 5.13904322e-04, 5.01505585e-04,\n",
       "       4.88363901e-04, 4.80886853e-04, 4.61757283e-04, 4.52064768e-04,\n",
       "       4.41382433e-04, 4.31011856e-04, 4.28511917e-04, 4.20632657e-04,\n",
       "       4.05368805e-04, 4.03545263e-04, 4.00561326e-04, 3.90354335e-04,\n",
       "       3.84593196e-04, 3.79272106e-04, 3.67336771e-04, 3.61727775e-04,\n",
       "       3.57209925e-04, 3.51699283e-04, 3.44993759e-04, 3.41376341e-04,\n",
       "       3.29679052e-04, 3.26193492e-04, 3.21830072e-04, 3.13938380e-04,\n",
       "       3.10134940e-04, 3.06828840e-04, 2.99013278e-04, 2.97123960e-04,\n",
       "       2.88578009e-04, 2.84298507e-04, 2.79978918e-04, 2.75095626e-04,\n",
       "       2.71935620e-04, 2.68764269e-04, 2.66877445e-04, 2.59593099e-04,\n",
       "       2.56948809e-04, 2.52102424e-04, 2.48595935e-04, 2.47506434e-04,\n",
       "       2.43504649e-04, 2.39916486e-04, 2.35169391e-04, 2.33369731e-04,\n",
       "       2.30786485e-04, 2.27377593e-04, 2.23991152e-04, 2.20779141e-04,\n",
       "       2.17393223e-04, 2.14133585e-04, 2.13322543e-04, 2.12805736e-04,\n",
       "       2.07751893e-04, 2.05818021e-04, 2.02179602e-04, 1.98639351e-04,\n",
       "       1.95717161e-04, 1.95147147e-04, 1.92634968e-04, 1.91585522e-04,\n",
       "       1.86229477e-04, 1.85535340e-04, 1.83672087e-04, 1.81061646e-04,\n",
       "       1.79009890e-04, 1.77563248e-04, 1.75911414e-04, 1.74899159e-04,\n",
       "       1.70855742e-04, 1.69204413e-04, 1.67498496e-04, 1.64905511e-04,\n",
       "       1.62249690e-04, 1.61456024e-04, 1.59768221e-04, 1.58682536e-04,\n",
       "       1.56734704e-04, 1.55007010e-04, 1.50609464e-04, 1.49940360e-04,\n",
       "       1.49077177e-04, 1.46726878e-04, 1.46354039e-04, 1.45970582e-04,\n",
       "       1.44090320e-04, 1.41582208e-04, 1.39532085e-04, 1.38487818e-04,\n",
       "       1.37513143e-04, 1.36081564e-04, 1.35458912e-04, 1.33761605e-04,\n",
       "       1.33069505e-04, 1.31445895e-04, 1.30210593e-04, 1.28255852e-04,\n",
       "       1.26337173e-04, 1.25411076e-04, 1.25323420e-04, 1.22795121e-04,\n",
       "       1.22238768e-04, 1.20682530e-04, 1.20324595e-04, 1.17904605e-04,\n",
       "       1.17076593e-04, 1.16775633e-04, 1.16455720e-04, 1.15166267e-04,\n",
       "       1.14575154e-04, 1.13811954e-04, 1.11699368e-04, 1.10742722e-04,\n",
       "       1.10031456e-04, 1.08454372e-04, 1.08117005e-04, 1.07744794e-04,\n",
       "       1.06557577e-04, 1.05473168e-04, 1.04985776e-04, 1.04157977e-04,\n",
       "       1.03339382e-04, 1.03173261e-04, 1.01545092e-04, 1.01236937e-04,\n",
       "       1.00269409e-04, 9.94347340e-05, 9.85468220e-05, 9.73150206e-05,\n",
       "       9.67586946e-05, 9.57992941e-05, 9.52757595e-05, 9.37818977e-05,\n",
       "       9.34038244e-05, 9.29730456e-05, 9.26539184e-05, 9.15080197e-05,\n",
       "       9.02472994e-05, 8.96680359e-05, 8.92202628e-05, 8.73748506e-05,\n",
       "       8.70029339e-05, 8.68009762e-05, 8.58376818e-05, 8.51631904e-05,\n",
       "       8.47601203e-05, 8.34934145e-05, 8.29937115e-05, 8.26113972e-05,\n",
       "       8.21438582e-05, 8.16050726e-05, 8.13575388e-05, 8.07938549e-05,\n",
       "       7.99913402e-05, 7.97833698e-05, 7.90983017e-05, 7.81097894e-05,\n",
       "       7.78572998e-05, 7.66574293e-05, 7.63575153e-05, 7.56505625e-05,\n",
       "       7.53471879e-05, 7.47802241e-05, 7.41072005e-05, 7.37873268e-05,\n",
       "       7.29684568e-05, 7.25112443e-05, 7.17937134e-05, 7.15279356e-05,\n",
       "       7.09802039e-05, 7.01589034e-05, 6.98458638e-05, 6.96139942e-05,\n",
       "       6.88797626e-05, 6.80505705e-05, 6.74697271e-05, 6.73714227e-05,\n",
       "       6.71360322e-05, 6.68097127e-05, 6.62304730e-05, 6.61412957e-05,\n",
       "       6.58271570e-05, 6.54492242e-05, 6.51412309e-05, 6.46980002e-05,\n",
       "       6.45302205e-05, 6.41379660e-05, 6.29543040e-05, 6.24642249e-05,\n",
       "       6.18440279e-05, 6.16408243e-05, 6.08955381e-05, 6.03913382e-05,\n",
       "       6.02700196e-05, 6.00624226e-05, 5.94402884e-05, 5.93527629e-05,\n",
       "       5.88323071e-05, 5.86286730e-05, 5.81982852e-05, 5.75748943e-05,\n",
       "       5.74401453e-05, 5.71157629e-05, 5.68397701e-05, 5.62999826e-05,\n",
       "       5.60418806e-05, 5.57016278e-05, 5.52660192e-05, 5.49852411e-05,\n",
       "       5.46347583e-05, 5.43639564e-05, 5.39166048e-05, 5.34440234e-05,\n",
       "       5.32961337e-05, 5.31579150e-05, 5.29583410e-05, 5.24383235e-05,\n",
       "       5.21790725e-05, 5.17674338e-05, 5.15667704e-05, 5.11370700e-05,\n",
       "       5.07849443e-05, 5.04821093e-05, 5.03237310e-05, 4.98264507e-05,\n",
       "       4.96103247e-05, 4.92918458e-05, 4.91455482e-05, 4.89122248e-05,\n",
       "       4.88574305e-05, 4.82687093e-05, 4.78668812e-05, 4.77551876e-05,\n",
       "       4.74449102e-05, 4.73510494e-05, 4.70281353e-05, 4.67638891e-05,\n",
       "       4.64100447e-05, 4.61608109e-05, 4.56502218e-05, 4.55750419e-05,\n",
       "       4.51821719e-05, 4.50145406e-05, 4.48514982e-05, 4.47141072e-05,\n",
       "       4.41882539e-05, 4.39685944e-05, 4.38615932e-05, 4.37114782e-05,\n",
       "       4.34991640e-05, 4.33265264e-05, 4.32219694e-05, 4.30685231e-05,\n",
       "       4.26174790e-05, 4.23616173e-05, 4.22212263e-05, 4.20478132e-05,\n",
       "       4.19478625e-05, 4.17696384e-05, 4.14597190e-05, 4.12683786e-05,\n",
       "       4.09535906e-05, 4.09084509e-05, 4.05028602e-05, 4.02727969e-05,\n",
       "       4.02106347e-05, 3.98196129e-05, 3.97567213e-05, 3.95331724e-05,\n",
       "       3.94070895e-05, 3.90679996e-05, 3.87984169e-05, 3.84881849e-05,\n",
       "       3.83365299e-05, 3.82306467e-05, 3.79733013e-05, 3.77148824e-05,\n",
       "       3.75991872e-05, 3.74684378e-05, 3.71275958e-05, 3.71038945e-05,\n",
       "       3.68893748e-05, 3.66742146e-05, 3.65622789e-05, 3.63051091e-05,\n",
       "       3.61039909e-05, 3.59784464e-05, 3.57664904e-05, 3.56423923e-05,\n",
       "       3.54385374e-05, 3.52305114e-05, 3.51312424e-05, 3.50616244e-05,\n",
       "       3.49501516e-05, 3.48488467e-05, 3.45622092e-05, 3.45193538e-05,\n",
       "       3.44260760e-05, 3.41316839e-05, 3.38130781e-05, 3.36584906e-05,\n",
       "       3.34461541e-05, 3.33415843e-05, 3.32759305e-05, 3.30598802e-05,\n",
       "       3.30408716e-05, 3.27374737e-05, 3.26686529e-05, 3.23670350e-05,\n",
       "       3.22296037e-05, 3.21669338e-05, 3.20126818e-05, 3.18231255e-05,\n",
       "       3.16686908e-05, 3.15872838e-05, 3.14221894e-05, 3.12634961e-05,\n",
       "       3.11582837e-05, 3.10506055e-05, 3.09907295e-05, 3.07295704e-05,\n",
       "       3.06137584e-05, 3.03308973e-05, 3.02178022e-05, 3.01037244e-05,\n",
       "       3.00665665e-05, 2.99340303e-05, 2.98062181e-05, 2.94839984e-05,\n",
       "       2.93947194e-05, 2.93268803e-05, 2.92591976e-05, 2.90038712e-05,\n",
       "       2.89170785e-05, 2.88773842e-05, 2.87338892e-05, 2.84934466e-05,\n",
       "       2.84161465e-05, 2.83175378e-05, 2.81042278e-05, 2.80419969e-05,\n",
       "       2.78977521e-05, 2.78434854e-05, 2.76148767e-05, 2.75799701e-05,\n",
       "       2.74516745e-05, 2.71570507e-05, 2.71056266e-05, 2.69444310e-05,\n",
       "       2.69219732e-05, 2.67787386e-05, 2.66940990e-05, 2.65275805e-05,\n",
       "       2.64437578e-05, 2.63021600e-05, 2.62056659e-05, 2.61731468e-05,\n",
       "       2.60109784e-05, 2.58711485e-05, 2.58446173e-05, 2.56843321e-05,\n",
       "       2.56244767e-05, 2.54517773e-05, 2.54301045e-05, 2.52813555e-05,\n",
       "       2.52561533e-05, 2.50612388e-05, 2.49785340e-05, 2.48398671e-05,\n",
       "       2.47599304e-05, 2.46613756e-05, 2.45788928e-05, 2.44908322e-05,\n",
       "       2.44264812e-05, 2.43564742e-05, 2.42844430e-05, 2.42055869e-05,\n",
       "       2.40800559e-05, 2.39461712e-05, 2.38854781e-05, 2.37085692e-05,\n",
       "       2.36615446e-05, 2.36046453e-05, 2.34133011e-05, 2.33083328e-05,\n",
       "       2.31981388e-05, 2.30805598e-05, 2.30431465e-05, 2.29213884e-05,\n",
       "       2.29160579e-05, 2.28464786e-05, 2.26313527e-05, 2.25741008e-05,\n",
       "       2.25051650e-05, 2.24331977e-05, 2.23641562e-05, 2.22263008e-05,\n",
       "       2.20949451e-05, 2.20560108e-05, 2.20119677e-05, 2.19571416e-05,\n",
       "       2.18876882e-05, 2.17458883e-05, 2.16632262e-05, 2.15582653e-05,\n",
       "       2.15506299e-05, 2.14012423e-05, 2.13937283e-05, 2.12657945e-05,\n",
       "       2.11376405e-05, 2.10174592e-05, 2.09580109e-05, 2.08341716e-05,\n",
       "       2.07507221e-05, 2.07114990e-05, 2.06002383e-05, 2.04932409e-05,\n",
       "       2.04300762e-05, 2.03752263e-05, 2.03372218e-05, 2.02957493e-05,\n",
       "       2.01227354e-05, 2.00430691e-05, 1.99326781e-05, 1.98432946e-05,\n",
       "       1.97924866e-05, 1.97438395e-05, 1.95367757e-05, 1.94479337e-05,\n",
       "       1.93949132e-05, 1.93182673e-05, 1.92490155e-05, 1.91968145e-05,\n",
       "       1.91180963e-05, 1.89787848e-05, 1.89085826e-05, 1.88812408e-05,\n",
       "       1.88218967e-05, 1.87876868e-05, 1.86803138e-05, 1.85372634e-05,\n",
       "       1.85325557e-05, 1.84064629e-05, 1.83896183e-05, 1.83258442e-05,\n",
       "       1.80939332e-05, 1.80713163e-05, 1.80228096e-05, 1.79988544e-05,\n",
       "       1.79137114e-05, 1.78319436e-05, 1.77640515e-05, 1.77101353e-05,\n",
       "       1.75926294e-05, 1.75102284e-05, 1.74713381e-05, 1.73352783e-05,\n",
       "       1.72776797e-05, 1.72503706e-05, 1.71784307e-05, 1.71259918e-05,\n",
       "       1.70936795e-05, 1.70760825e-05, 1.69714206e-05, 1.69410770e-05,\n",
       "       1.69259175e-05, 1.68052639e-05, 1.67790929e-05, 1.67414742e-05,\n",
       "       1.66546325e-05, 1.65918977e-05, 1.65082641e-05, 1.63825506e-05,\n",
       "       1.62876324e-05, 1.62293354e-05, 1.61455255e-05, 1.61403151e-05,\n",
       "       1.60690723e-05, 1.60088455e-05, 1.59319682e-05, 1.58348491e-05,\n",
       "       1.57554494e-05, 1.57276465e-05, 1.56617600e-05, 1.56254226e-05,\n",
       "       1.55787290e-05, 1.55223543e-05, 1.54895324e-05, 1.53202395e-05,\n",
       "       1.52802677e-05, 1.51909579e-05, 1.51029701e-05, 1.50691556e-05,\n",
       "       1.50316125e-05, 1.49645676e-05, 1.49347767e-05, 1.47847717e-05,\n",
       "       1.47390808e-05, 1.47198387e-05, 1.46539875e-05, 1.46089705e-05,\n",
       "       1.44666412e-05, 1.44256004e-05, 1.43627209e-05, 1.42385593e-05,\n",
       "       1.41933511e-05, 1.41090858e-05, 1.40818259e-05, 1.39858298e-05,\n",
       "       1.39428886e-05, 1.38381791e-05, 1.37468442e-05, 1.36382190e-05,\n",
       "       1.35875829e-05, 1.35446953e-05, 1.34698610e-05, 1.33550625e-05,\n",
       "       1.33369709e-05, 1.31504570e-05, 1.29917804e-05, 1.29500146e-05,\n",
       "       1.28936124e-05, 1.28099376e-05, 1.26383837e-05, 1.23071465e-05])"
      ]
     },
     "execution_count": 7,
     "metadata": {},
     "output_type": "execute_result"
    }
   ],
   "source": [
    "pca.explained_variance_ratio_"
   ]
  },
  {
   "cell_type": "code",
   "execution_count": 8,
   "metadata": {},
   "outputs": [],
   "source": [
    "def extract_features(feature_extractor, dataloader, pca):\n",
    "    lh_fmri = []\n",
    "    features = []\n",
    "    for _, d in tqdm(enumerate(dataloader), total=len(dataloader)):\n",
    "        if _ == len(dataloader)-1:\n",
    "            break\n",
    "        # Extract features\n",
    "        ft = feature_extractor(d[0].to(device))\n",
    "        lh_fmri += [d[1].cpu().detach().numpy()]\n",
    "        # Flatten the features\n",
    "        ft = torch.hstack([torch.flatten(l, start_dim=1) for l in ft.values()])\n",
    "        # Apply PCA transform\n",
    "        ft = pca.transform(ft.cpu().detach().numpy())\n",
    "        features += [ft]\n",
    "    return (np.vstack(features), np.vstack(lh_fmri))"
   ]
  },
  {
   "cell_type": "code",
   "execution_count": 9,
   "metadata": {},
   "outputs": [
    {
     "name": "stderr",
     "output_type": "stream",
     "text": [
      " 94%|█████████▍| 16/17 [00:24<00:01,  1.52s/it]\n",
      " 67%|██████▋   | 2/3 [00:03<00:01,  1.60s/it]\n"
     ]
    }
   ],
   "source": [
    "features_train, labels_train = extract_features(feature_extractor, train_loader, pca)\n",
    "features_val, labels_val = extract_features(feature_extractor, val_loader, pca)"
   ]
  },
  {
   "cell_type": "code",
   "execution_count": 10,
   "metadata": {},
   "outputs": [
    {
     "data": {
      "text/html": [
       "<style>#sk-container-id-1 {color: black;background-color: white;}#sk-container-id-1 pre{padding: 0;}#sk-container-id-1 div.sk-toggleable {background-color: white;}#sk-container-id-1 label.sk-toggleable__label {cursor: pointer;display: block;width: 100%;margin-bottom: 0;padding: 0.3em;box-sizing: border-box;text-align: center;}#sk-container-id-1 label.sk-toggleable__label-arrow:before {content: \"▸\";float: left;margin-right: 0.25em;color: #696969;}#sk-container-id-1 label.sk-toggleable__label-arrow:hover:before {color: black;}#sk-container-id-1 div.sk-estimator:hover label.sk-toggleable__label-arrow:before {color: black;}#sk-container-id-1 div.sk-toggleable__content {max-height: 0;max-width: 0;overflow: hidden;text-align: left;background-color: #f0f8ff;}#sk-container-id-1 div.sk-toggleable__content pre {margin: 0.2em;color: black;border-radius: 0.25em;background-color: #f0f8ff;}#sk-container-id-1 input.sk-toggleable__control:checked~div.sk-toggleable__content {max-height: 200px;max-width: 100%;overflow: auto;}#sk-container-id-1 input.sk-toggleable__control:checked~label.sk-toggleable__label-arrow:before {content: \"▾\";}#sk-container-id-1 div.sk-estimator input.sk-toggleable__control:checked~label.sk-toggleable__label {background-color: #d4ebff;}#sk-container-id-1 div.sk-label input.sk-toggleable__control:checked~label.sk-toggleable__label {background-color: #d4ebff;}#sk-container-id-1 input.sk-hidden--visually {border: 0;clip: rect(1px 1px 1px 1px);clip: rect(1px, 1px, 1px, 1px);height: 1px;margin: -1px;overflow: hidden;padding: 0;position: absolute;width: 1px;}#sk-container-id-1 div.sk-estimator {font-family: monospace;background-color: #f0f8ff;border: 1px dotted black;border-radius: 0.25em;box-sizing: border-box;margin-bottom: 0.5em;}#sk-container-id-1 div.sk-estimator:hover {background-color: #d4ebff;}#sk-container-id-1 div.sk-parallel-item::after {content: \"\";width: 100%;border-bottom: 1px solid gray;flex-grow: 1;}#sk-container-id-1 div.sk-label:hover label.sk-toggleable__label {background-color: #d4ebff;}#sk-container-id-1 div.sk-serial::before {content: \"\";position: absolute;border-left: 1px solid gray;box-sizing: border-box;top: 0;bottom: 0;left: 50%;z-index: 0;}#sk-container-id-1 div.sk-serial {display: flex;flex-direction: column;align-items: center;background-color: white;padding-right: 0.2em;padding-left: 0.2em;position: relative;}#sk-container-id-1 div.sk-item {position: relative;z-index: 1;}#sk-container-id-1 div.sk-parallel {display: flex;align-items: stretch;justify-content: center;background-color: white;position: relative;}#sk-container-id-1 div.sk-item::before, #sk-container-id-1 div.sk-parallel-item::before {content: \"\";position: absolute;border-left: 1px solid gray;box-sizing: border-box;top: 0;bottom: 0;left: 50%;z-index: -1;}#sk-container-id-1 div.sk-parallel-item {display: flex;flex-direction: column;z-index: 1;position: relative;background-color: white;}#sk-container-id-1 div.sk-parallel-item:first-child::after {align-self: flex-end;width: 50%;}#sk-container-id-1 div.sk-parallel-item:last-child::after {align-self: flex-start;width: 50%;}#sk-container-id-1 div.sk-parallel-item:only-child::after {width: 0;}#sk-container-id-1 div.sk-dashed-wrapped {border: 1px dashed gray;margin: 0 0.4em 0.5em 0.4em;box-sizing: border-box;padding-bottom: 0.4em;background-color: white;}#sk-container-id-1 div.sk-label label {font-family: monospace;font-weight: bold;display: inline-block;line-height: 1.2em;}#sk-container-id-1 div.sk-label-container {text-align: center;}#sk-container-id-1 div.sk-container {/* jupyter's `normalize.less` sets `[hidden] { display: none; }` but bootstrap.min.css set `[hidden] { display: none !important; }` so we also need the `!important` here to be able to override the default hidden behavior on the sphinx rendered scikit-learn.org. See: https://github.com/scikit-learn/scikit-learn/issues/21755 */display: inline-block !important;position: relative;}#sk-container-id-1 div.sk-text-repr-fallback {display: none;}</style><div id=\"sk-container-id-1\" class=\"sk-top-container\"><div class=\"sk-text-repr-fallback\"><pre>LinearRegression()</pre><b>In a Jupyter environment, please rerun this cell to show the HTML representation or trust the notebook. <br />On GitHub, the HTML representation is unable to render, please try loading this page with nbviewer.org.</b></div><div class=\"sk-container\" hidden><div class=\"sk-item\"><div class=\"sk-estimator sk-toggleable\"><input class=\"sk-toggleable__control sk-hidden--visually\" id=\"sk-estimator-id-1\" type=\"checkbox\" checked><label for=\"sk-estimator-id-1\" class=\"sk-toggleable__label sk-toggleable__label-arrow\">LinearRegression</label><div class=\"sk-toggleable__content\"><pre>LinearRegression()</pre></div></div></div></div></div>"
      ],
      "text/plain": [
       "LinearRegression()"
      ]
     },
     "execution_count": 10,
     "metadata": {},
     "output_type": "execute_result"
    }
   ],
   "source": [
    "model = LinearRegression()\n",
    "\n",
    "model.fit(features_train, labels_train)"
   ]
  },
  {
   "cell_type": "code",
   "execution_count": 11,
   "metadata": {},
   "outputs": [
    {
     "name": "stdout",
     "output_type": "stream",
     "text": [
      "[0.11132761 0.09823947]\n"
     ]
    }
   ],
   "source": [
    "output = model.predict(features_val)\n",
    "\n",
    "differences = np.abs(output - labels_val)\n",
    "\n",
    "print(np.mean(differences, axis=0))"
   ]
  },
  {
   "cell_type": "code",
   "execution_count": 12,
   "metadata": {},
   "outputs": [
    {
     "data": {
      "text/plain": [
       "<matplotlib.collections.PathCollection at 0x7fb1441a9750>"
      ]
     },
     "execution_count": 12,
     "metadata": {},
     "output_type": "execute_result"
    },
    {
     "data": {
      "image/png": "[encoded data removed]",
      "text/plain": [
       "<Figure size 640x480 with 1 Axes>"
      ]
     },
     "metadata": {},
     "output_type": "display_data"
    }
   ],
   "source": [
    "plt.scatter(output[:,0], labels_val[:,0])\n",
    "plt.scatter(output[:,1], labels_val[:,1])"
   ]
  },
  {
   "cell_type": "code",
   "execution_count": 137,
   "metadata": {},
   "outputs": [],
   "source": [
    "class RegressionHead(torch.nn.Module):\n",
    "    def __init__(self):\n",
    "        super(RegressionHead, self).__init__()\n",
    "        \n",
    "        self.linear1 = torch.nn.Linear(600, 2)\n",
    "\n",
    "    def forward(self, x):\n",
    "        return self.linear1(x)"
   ]
  },
  {
   "cell_type": "code",
   "execution_count": 138,
   "metadata": {},
   "outputs": [
    {
     "data": {
      "text/plain": [
       "RegressionHead(\n",
       "  (flatten): Flatten(start_dim=1, end_dim=-1)\n",
       "  (linear1): Linear(in_features=600, out_features=2, bias=True)\n",
       ")"
      ]
     },
     "execution_count": 138,
     "metadata": {},
     "output_type": "execute_result"
    }
   ],
   "source": [
    "regression_head = RegressionHead().to(device)\n",
    "regression_head.to(device)"
   ]
  },
  {
   "cell_type": "code",
   "execution_count": 140,
   "metadata": {},
   "outputs": [],
   "source": [
    "EPOCHS = 1000\n",
    "\n",
    "mse_loss = torch.nn.MSELoss()\n",
    "optimizer = torch.optim.Adam(regression_head.parameters(), lr=1e-4)"
   ]
  },
  {
   "cell_type": "code",
   "execution_count": 132,
   "metadata": {},
   "outputs": [],
   "source": [
    "grad_desc_features = features_train.reshape((-1, 9600, 600))\n",
    "grad_desc_labels = labels_train.reshape((-1, 9600, 2))"
   ]
  },
  {
   "cell_type": "code",
   "execution_count": 133,
   "metadata": {},
   "outputs": [],
   "source": [
    "losses = []\n",
    "val_losses = []\n",
    "\n",
    "for epoch in range(EPOCHS):\n",
    "    #print(\"Epoch: \" + str(epoch))\n",
    "\n",
    "    for i, (inputs, targets) in enumerate(zip(grad_desc_features, grad_desc_labels)):\n",
    "        inputs = torch.tensor(inputs, dtype=torch.float32).to(device)\n",
    "\n",
    "        output = regression_head(inputs)\n",
    "\n",
    "        loss = mse_loss(output, torch.tensor(targets, dtype=torch.float32).to(device))\n",
    "        \n",
    "        if i == grad_desc_features.shape[0]-1:\n",
    "            #print(\"Train loss: \" + str(loss.item()))\n",
    "            losses.append(loss.item())\n",
    "        \n",
    "        if loss < 0.5:\n",
    "            break\n",
    "\n",
    "        loss.backward()\n",
    "        \n",
    "        optimizer.step()"
   ]
  },
  {
   "cell_type": "code",
   "execution_count": 134,
   "metadata": {},
   "outputs": [
    {
     "data": {
      "text/plain": [
       "[<matplotlib.lines.Line2D at 0x7fb0f7df1890>]"
      ]
     },
     "execution_count": 134,
     "metadata": {},
     "output_type": "execute_result"
    },
    {
     "data": {
      "image/png": "[encoded data removed]",
      "text/plain": [
       "<Figure size 640x480 with 1 Axes>"
      ]
     },
     "metadata": {},
     "output_type": "display_data"
    }
   ],
   "source": [
    "plt.plot(losses)"
   ]
  },
  {
   "cell_type": "code",
   "execution_count": 136,
   "metadata": {},
   "outputs": [
    {
     "name": "stdout",
     "output_type": "stream",
     "text": [
      "pass\n"
     ]
    },
    {
     "name": "stderr",
     "output_type": "stream",
     "text": [
      "1it [00:00, 188.36it/s]"
     ]
    },
    {
     "name": "stdout",
     "output_type": "stream",
     "text": [
      "[0.5512214 0.5508127]\n"
     ]
    },
    {
     "name": "stderr",
     "output_type": "stream",
     "text": [
      "\n"
     ]
    }
   ],
   "source": [
    "differences = []\n",
    "print(\"pass\")\n",
    "for i, (inputs, targets) in tqdm(enumerate(zip(grad_desc_features, grad_desc_labels))):\n",
    "    inputs = torch.tensor(inputs, dtype=torch.float32).to(device)\n",
    "\n",
    "    output = regression_head(inputs)\n",
    "    \n",
    "    if len(differences) == 0:\n",
    "        differences = np.abs(targets - output.detach().cpu().numpy())\n",
    "    else:\n",
    "        differences = np.vstack((differences, np.abs(targets - output.detach().cpu().numpy())))\n",
    "\n",
    "    print(np.mean(differences, axis=0))"
   ]
  }
 ],
 "metadata": {
  "kernelspec": {
   "display_name": "gaze",
   "language": "python",
   "name": "python3"
  },
  "language_info": {
   "codemirror_mode": {
    "name": "ipython",
    "version": 3
   },
   "file_extension": ".py",
   "mimetype": "text/x-python",
   "name": "python",
   "nbconvert_exporter": "python",
   "pygments_lexer": "ipython3",
   "version": "3.11.3"
  },
  "orig_nbformat": 4
 },
 "nbformat": 4,
 "nbformat_minor": 2
}
